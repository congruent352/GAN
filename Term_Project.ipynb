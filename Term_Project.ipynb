{
  "nbformat": 4,
  "nbformat_minor": 0,
  "metadata": {
    "accelerator": "GPU",
    "colab": {
      "name": "Term_Project.ipynb",
      "provenance": [],
      "collapsed_sections": [],
      "include_colab_link": true
    },
    "kernelspec": {
      "display_name": "Python 3",
      "name": "python3"
    }
  },
  "cells": [
    {
      "cell_type": "markdown",
      "metadata": {
        "id": "view-in-github",
        "colab_type": "text"
      },
      "source": [
        "<a href=\"https://colab.research.google.com/github/congruent352/GAN/blob/main/Term_Project.ipynb\" target=\"_parent\"><img src=\"https://colab.research.google.com/assets/colab-badge.svg\" alt=\"Open In Colab\"/></a>"
      ]
    },
    {
      "cell_type": "markdown",
      "metadata": {
        "id": "LvasV_ZIVOTJ"
      },
      "source": [
        "# **Term Project**<a name=\"contents\"></a>\n",
        "\n",
        "**[1. Import the libraries](#1)**\n",
        "\n",
        "**[2. Load the data](#2)**\n",
        "\n",
        "**[3. Build a CycleGAN & Edge detection & Discriminator](#3)**\n",
        "\n",
        "- [Generator](#3.1)\n",
        "\n",
        "- [Discriminator](#3.2)\n",
        "\n",
        "- [Initialization](#3.3)\n",
        "\n",
        "- [CycleGAN](#3.3)\n",
        "\n",
        "\n",
        "**[4. Train](#4)**\n",
        "\n",
        "**[5. Test](#5)**"
      ]
    },
    {
      "cell_type": "markdown",
      "metadata": {
        "id": "J9KpYBHMt4eC"
      },
      "source": [
        "## **[Import the libraries](#contents)<a name=\"1\"></a>**"
      ]
    },
    {
      "cell_type": "code",
      "metadata": {
        "id": "-mFUwsp-YWRg",
        "colab": {
          "base_uri": "https://localhost:8080/"
        },
        "outputId": "47dcce6c-8453-44fe-f785-fb6af7b33a4f"
      },
      "source": [
        "import torch\n",
        "import time\n",
        "import torch.nn as nn\n",
        "import torch.nn.functional as F\n",
        "import torch.optim as optim\n",
        "import matplotlib.pyplot as plt\n",
        "from torchvision import datasets, transforms\n",
        "import numpy as np\n",
        "from torch.autograd import Variable\n",
        "from torch.utils.data import TensorDataset, DataLoader\n",
        "plt.rcParams['figure.figsize'] = [12, 6]\n",
        "\n",
        "from google.colab import drive\n",
        "drive.mount('/content/drive')\n",
        "\n",
        "# path to PET scans\n",
        "path1 = '/content/drive/MyDrive/Coursework/Machine Learning/GAN/PET Scans/1 (' \n",
        "\n",
        "# path to CT scans\n",
        "path2 = '/content/drive/MyDrive/Coursework/Machine Learning/GAN/CT Scans/1 (' \n",
        "\n",
        "# path to the pretrained weights\n",
        "PATH = 'drive/My Drive/GAN'"
      ],
      "execution_count": null,
      "outputs": [
        {
          "output_type": "stream",
          "text": [
            "Mounted at /content/drive\n"
          ],
          "name": "stdout"
        }
      ]
    },
    {
      "cell_type": "markdown",
      "metadata": {
        "id": "HZMA1wgyVVXm"
      },
      "source": [
        "## **[Load the data](#contents)<a name =\"2\"></a>**\n",
        "\n",
        "We decide not to use the validation, as we have small number of samples.\n",
        "\n",
        "* First, the filename extension is **dcm**, so we downloaded **pydicom**.\n"
      ]
    },
    {
      "cell_type": "code",
      "metadata": {
        "colab": {
          "base_uri": "https://localhost:8080/"
        },
        "id": "QQ2iLmt6tYML",
        "outputId": "c041f42f-175b-4b6b-bc16-b87f9393d551"
      },
      "source": [
        "!pip install pydicom\n",
        "import pydicom\n",
        "import cv2\n",
        "from pydicom.pixel_data_handlers.util import apply_voi_lut\n",
        "from PIL import Image\n",
        "from numpy import asarray\n",
        "\n",
        "\n",
        "PET_images = []\n",
        "\n",
        "\n",
        "for i in range(419):\n",
        "  slice = pydicom.read_file(path1 + str(i+1) + ').dcm')\n",
        "  #s = int(slice.RescaleSlope)\n",
        "  #b = int(slice.RescaleIntercept)\n",
        "  image = np.array(slice.pixel_array)\n",
        "  PET_images.append(image)\n",
        "\n",
        "PET_images = torch.FloatTensor(PET_images)\n",
        "\n",
        "\n",
        "CT_images = []\n",
        "for i in range(696):\n",
        "  image_pil = Image.open(path2 + str(i+1) + ').png')\n",
        "  image = asarray(image_pil)\n",
        "  CT_images.append(image)\n",
        "\n",
        "CT_images = torch.FloatTensor(CT_images)"
      ],
      "execution_count": null,
      "outputs": [
        {
          "output_type": "stream",
          "text": [
            "Requirement already satisfied: pydicom in /usr/local/lib/python3.7/dist-packages (2.1.2)\n"
          ],
          "name": "stdout"
        }
      ]
    },
    {
      "cell_type": "code",
      "metadata": {
        "id": "pbespT8qoA3D"
      },
      "source": [
        "# Normalization\n",
        "\n",
        "PET_scale = torch.max(PET_images) - torch.min(PET_images)\n",
        "PET_intercept = torch.min(PET_images) * torch.ones_like(PET_images)\n",
        "CT_scale = torch.max(CT_images) - torch.min(CT_images)\n",
        "CT_intercept = torch.min(CT_images) * torch.ones_like(CT_images)\n",
        "\n",
        "PET_images = (PET_images - PET_intercept ) / (PET_scale)\n",
        "CT_images = (CT_images - CT_intercept ) / (CT_scale)\n",
        "\n",
        "kernel = torch.FloatTensor([[-1, -1, -1],\n",
        "                                        [-1, 8.5, -1],\n",
        "                                        [-1, -1, -1]]).view([1, 1, 3, 3])\n",
        "EdgeDetection = nn.Conv2d(1, 1, 3, 1, 1, bias = False)\n",
        "EdgeDetection.weight = nn.Parameter(kernel, requires_grad = False)"
      ],
      "execution_count": null,
      "outputs": []
    },
    {
      "cell_type": "code",
      "metadata": {
        "colab": {
          "base_uri": "https://localhost:8080/",
          "height": 545
        },
        "id": "Cl1TfZIEQhc-",
        "outputId": "5bdb3c0b-0c18-463e-91a9-5d58a3684b15"
      },
      "source": [
        "plt.imshow(PET_images[0], cmap = 'gray')\n",
        "plt.title('PET Scan')\n",
        "plt.show()\n",
        "plt.imshow(CT_images[0], cmap = 'gray')\n",
        "plt.title('CT Scan')\n",
        "plt.show()"
      ],
      "execution_count": null,
      "outputs": [
        {
          "output_type": "display_data",
          "data": {
            "image/png": "[encoded data removed]",
            "text/plain": [
              "<Figure size 432x288 with 1 Axes>"
            ]
          },
          "metadata": {
            "tags": [],
            "needs_background": "light"
          }
        },
        {
          "output_type": "display_data",
          "data": {
            "image/png": "[encoded data removed]",
            "text/plain": [
              "<Figure size 432x288 with 1 Axes>"
            ]
          },
          "metadata": {
            "tags": [],
            "needs_background": "light"
          }
        }
      ]
    },
    {
      "cell_type": "code",
      "metadata": {
        "colab": {
          "base_uri": "https://localhost:8080/",
          "height": 545
        },
        "id": "HLbL5fNG8hut",
        "outputId": "02a4c229-1136-451c-a37d-715f2393fde1"
      },
      "source": [
        "a = EdgeDetection(PET_images.view(-1, 1, 200, 200))\n",
        "b = EdgeDetection(CT_images.view(-1, 1, 512, 512))\n",
        "\n",
        "plt.imshow(a[0].reshape(200, 200), cmap = 'gray')\n",
        "plt.title('Edge of PET scan')\n",
        "plt.show()\n",
        "plt.imshow(b[0].reshape(512, 512), cmap = 'gray')\n",
        "plt.title('Edge of CT scan')\n",
        "plt.show()"
      ],
      "execution_count": null,
      "outputs": [
        {
          "output_type": "display_data",
          "data": {
            "image/png": "[encoded data removed]",
            "text/plain": [
              "<Figure size 432x288 with 1 Axes>"
            ]
          },
          "metadata": {
            "tags": [],
            "needs_background": "light"
          }
        },
        {
          "output_type": "display_data",
          "data": {
            "image/png": "[encoded data removed]",
            "text/plain": [
              "<Figure size 432x288 with 1 Axes>"
            ]
          },
          "metadata": {
            "tags": [],
            "needs_background": "light"
          }
        }
      ]
    },
    {
      "cell_type": "markdown",
      "metadata": {
        "id": "zsrg70RzTkLc"
      },
      "source": [
        "## **[Construct the models](#contents)<a name = \"3\"></a>**\n",
        "\n",
        "### **Generator**<a name = \"3.1\"></a>\n",
        "\n",
        "Here, we are going to build three generators for comparison.\n",
        "\n",
        "1. **Cycle GAN**\n",
        "$$ \\text{PET Scans} \\rightleftharpoons \\text{CT Scans}$$\n",
        "\n",
        "2. **Cycle MedGAN**\n",
        "$$ \\text{perceptual, style losses}\\leftarrow \\text{PET Scans} \\rightleftharpoons \\text{CT Scans} \\to\\text{perceptual, style losses} $$\n",
        "\n",
        "3. **Our approach**\n",
        "$$\\text{Edge Detection}\\leftarrow\\text{PET Scans} \\rightleftharpoons \\text{CT Scans}\\to \\text{Edge Detection}$$\n",
        "\n",
        "and vice versa.\n",
        "\n",
        "\n",
        "\n",
        "### **Structure?**\n",
        "\n",
        "* PET Scan: 200$\\times$200\n",
        "\n",
        "  CT Scan: 512$\\times$512\n",
        "\n",
        "* $G_1$ (CT Generator): PET Scan $\\to$ Down Sampling (4, 4, 4) $\\to$ Up Sampling (512, 512)\n",
        "\n",
        "  $G_2$ (PET Generator): CT Scan $\\to$ Down Sampling (4, 4, 4) $\\to$ Up Sampling (200, 200)\n",
        "\n",
        "* $D_1$ (PET Discriminator): PET Scan $\\to$ Down Sampling (4, 4, 4) $\\to$ Dense Neural Network $\\to$ (1)\n",
        "\n",
        "  $D_2$ (CT Discriminator): CT Scan $\\to$ Down Sampling (4, 4, 4) $\\to$ Dense Neural Network $\\to$ (1)\n",
        "\n",
        "\n"
      ]
    },
    {
      "cell_type": "code",
      "metadata": {
        "id": "JBdxgtHsYixY"
      },
      "source": [
        "class CT_generator(nn.Module):\n",
        "    def __init__(self):\n",
        "        super(CT_generator, self).__init__()\n",
        "\n",
        "        self.conv = nn.Sequential(\n",
        "            nn.Conv2d(16, 8, 5, 3, 1),\n",
        "            nn.BatchNorm2d(8),\n",
        "            nn.ReLU(),\n",
        "            nn.MaxPool2d(2),\n",
        "            nn.Conv2d(8, 4, 4, 2, 1),\n",
        "            nn.Tanh(),\n",
        "        )\n",
        "\n",
        "        self.deconv = nn.Sequential(\n",
        "            nn.ConvTranspose2d(4, 8, 4, 2, 1),\n",
        "            nn.BatchNorm2d(8),\n",
        "            nn.ReLU(),\n",
        "            nn.ConvTranspose2d(8, 16, 4, 2, 1),\n",
        "            nn.BatchNorm2d(16),\n",
        "            nn.ReLU(),\n",
        "            nn.ConvTranspose2d(16, 32, 4, 2, 1),\n",
        "            nn.BatchNorm2d(32),\n",
        "            nn.ReLU(),\n",
        "            nn.ConvTranspose2d(32, 64, 4, 2, 1),\n",
        "            nn.Tanh(),\n",
        "        )\n",
        "        initialize_weights(self)\n",
        "\n",
        "    def forward(self, input):\n",
        "        x = input.view(-1, 16, 50, 50)\n",
        "        x = self.conv(x)\n",
        "        x = self.deconv(x)\n",
        "        x = x.reshape(-1, 512, 512)\n",
        "        return x\n",
        "\n",
        "class PET_generator(nn.Module):\n",
        "    def __init__(self):\n",
        "        super(PET_generator, self).__init__()\n",
        "\n",
        "        self.conv = nn.Sequential(\n",
        "            nn.Conv2d(16, 16, 4, 2, 1),\n",
        "            nn.BatchNorm2d(16),\n",
        "            nn.ReLU(),\n",
        "            nn.MaxPool2d(2),\n",
        "            nn.Conv2d(16, 8, 4, 2, 1),\n",
        "            nn.BatchNorm2d(8),\n",
        "            nn.ReLU(),\n",
        "            nn.MaxPool2d(2),\n",
        "            nn.Conv2d(8, 4, 4, 2, 1),\n",
        "            nn.Tanh(),\n",
        "        )\n",
        "\n",
        "        self.deconv = nn.Sequential(\n",
        "            nn.ConvTranspose2d(4, 8, 4, 2, 1),\n",
        "            nn.BatchNorm2d(8),\n",
        "            nn.ReLU(),\n",
        "            nn.ConvTranspose2d(8, 16, 1, 4, 2),\n",
        "            nn.BatchNorm2d(16),\n",
        "            nn.ReLU(),\n",
        "            nn.ConvTranspose2d(16, 16, 4, 2, 1),\n",
        "            nn.BatchNorm2d(16),\n",
        "            nn.Tanh(),\n",
        "        )\n",
        "        initialize_weights(self)\n",
        "\n",
        "    def forward(self, input):\n",
        "        x = input.view(-1, 16, 128, 128)\n",
        "        x = self.conv(x)\n",
        "        x = self.deconv(x)\n",
        "        x = x.reshape(-1, 200, 200)\n",
        "        return x"
      ],
      "execution_count": null,
      "outputs": []
    },
    {
      "cell_type": "markdown",
      "metadata": {
        "id": "14cTTShFTgsW"
      },
      "source": [
        "## **[Construct the discriminators](#contents)<a name=\"3.2\"></a>**\n",
        "\n"
      ]
    },
    {
      "cell_type": "code",
      "metadata": {
        "id": "j22qnNwiZIyC"
      },
      "source": [
        "class PET_discriminator(nn.Module):\n",
        "    def __init__(self):\n",
        "        super(PET_discriminator, self).__init__()\n",
        "\n",
        "        self.conv = nn.Sequential(\n",
        "            nn.Conv2d(16, 8, 5, 3, 1),\n",
        "            nn.BatchNorm2d(8),\n",
        "            nn.LeakyReLU(0.2),\n",
        "            nn.MaxPool2d(2),\n",
        "            nn.Conv2d(8, 4, 4, 2, 1),\n",
        "            nn.LeakyReLU(0.2),\n",
        "        )\n",
        "\n",
        "        self.fc = nn.Sequential(\n",
        "            nn.Linear(4*4*4, 1024),\n",
        "            nn.LeakyReLU(0.2),\n",
        "            nn.Linear(1024, 1),\n",
        "            nn.Sigmoid(),\n",
        "        )\n",
        "        initialize_weights(self)\n",
        "\n",
        "    def forward(self, input):\n",
        "        x = input\n",
        "        x = x.view(-1, 16, 50, 50)\n",
        "        x = self.conv(x)\n",
        "        x = x.view(-1, 4*4*4)\n",
        "        x = self.fc(x)\n",
        "\n",
        "        return x\n",
        "\n",
        "\n",
        "\n",
        "class CT_discriminator(nn.Module):\n",
        "    def __init__(self):\n",
        "        super(CT_discriminator, self).__init__()\n",
        "\n",
        "        self.conv = nn.Sequential(\n",
        "            nn.Conv2d(16, 16, 4, 2, 1),\n",
        "            nn.BatchNorm2d(16),\n",
        "            nn.ReLU(),\n",
        "            nn.MaxPool2d(2),\n",
        "            nn.Conv2d(16, 8, 4, 2, 1),\n",
        "            nn.BatchNorm2d(8),\n",
        "            nn.ReLU(),\n",
        "            nn.MaxPool2d(2),\n",
        "            nn.Conv2d(8, 4, 4, 2, 1),\n",
        "            nn.Tanh(),\n",
        "        )\n",
        "\n",
        "        self.fc = nn.Sequential(\n",
        "            nn.Linear(4*4*4, 1024),\n",
        "            nn.LeakyReLU(0.2),\n",
        "            nn.Linear(1024, 1),\n",
        "            nn.Sigmoid(),\n",
        "        )\n",
        "        initialize_weights(self)\n",
        "\n",
        "    def forward(self, input):\n",
        "        x = input\n",
        "        x = input.view(-1, 16, 128, 128)\n",
        "        x = self.conv(x)\n",
        "        x = x.view(-1, 4*4*4)\n",
        "        x = self.fc(x)\n",
        "\n",
        "        return x\n"
      ],
      "execution_count": null,
      "outputs": []
    },
    {
      "cell_type": "markdown",
      "metadata": {
        "id": "nq-4BtksO4Wy"
      },
      "source": [
        "## **[Initialization](#contents)<a name = \"3.3\"></a>**\n",
        "\n",
        "**[Types of Initializations](https://prateekvishnu.medium.com/xavier-and-he-normal-he-et-al-initialization-8e3d7a087528)**\n",
        "\n",
        "1. He Initialization\n",
        "\n",
        "2. Xavier Initialization\n",
        "\n",
        "3. Random Initialization"
      ]
    },
    {
      "cell_type": "code",
      "metadata": {
        "id": "5KIZiXrug91i"
      },
      "source": [
        "def initialize_weights(net):\n",
        "    for m in net.modules():\n",
        "        if isinstance(m, nn.Conv2d):\n",
        "            m.weight.data.normal_(0, 0.02)\n",
        "            m.bias.data.zero_()\n",
        "        elif isinstance(m, nn.ConvTranspose2d):\n",
        "            m.weight.data.normal_(0, 0.02)\n",
        "            m.bias.data.zero_()\n",
        "        elif isinstance(m, nn.Linear):\n",
        "            m.weight.data.normal_(0, 0.02)\n",
        "            m.bias.data.zero_()"
      ],
      "execution_count": null,
      "outputs": []
    },
    {
      "cell_type": "markdown",
      "metadata": {
        "id": "8IeQjGUnR7Iz"
      },
      "source": [
        "## **[CycleGAN & Edge Detection](#contents)<a name = \"3.4\"></a>**\n",
        "\n",
        "**Loss function** consists of four parts\n",
        "> 1. Loss from discriminator (Binary Cross Entropy loss)\n",
        ">\n",
        "> 2. Loss to fool discriminator (Binary Cross Entropy loss)\n",
        ">\n",
        "> 3. Cycle Consistency (MSE loss)\n",
        ">\n",
        "> 4. Cycle Consistency of Edge (MSE loss)"
      ]
    },
    {
      "cell_type": "code",
      "metadata": {
        "id": "h8BQUbp4ZVhI"
      },
      "source": [
        "class GAN():\n",
        "    def __init__(self,params):\n",
        "        # parameters\n",
        "        self.epoch = params['max_epochs']\n",
        "        #self.batch_size = params['batch_size']\n",
        "        self.inner_train = params['inner_train']\n",
        "\n",
        "        # load dataset\n",
        "        # self.data_loader1 = torch.utils.data.DataLoader(PET_images, \n",
        "        #                                       batch_size=self.batch_size, \n",
        "        #                                       shuffle=True)\n",
        "        # self.data_loader2 = torch.utils.data.DataLoader(CT_images, \n",
        "        #                                       batch_size=self.batch_size, \n",
        "        #                                       shuffle=True)\n",
        "        # data1 = self.data_loader1.__iter__().__next__()[0]\n",
        "        # data2 = self.data_loader2.__iter__().__next__()[0]\n",
        "        self.PET = PET_images.cuda()\n",
        "        self.CT = CT_images.cuda()\n",
        "\n",
        "        kernel = torch.FloatTensor([[-1, -1, -1],\n",
        "                                        [-1, 8.5, -1],\n",
        "                                        [-1, -1, -1]]).view([1, 1, 3, 3])\n",
        "        self.kernel = kernel.cuda()\n",
        "        self.EdgeDetection = nn.Conv2d(1, 1, 3, 1, 1, bias = False)\n",
        "        self.EdgeDetection.weight = nn.Parameter(self.kernel, requires_grad = False)\n",
        "\n",
        "        # initialization of the generator and discriminator\n",
        "        # G1 maps PET to CT\n",
        "        # G2 maps CT to PET\n",
        "        # D1 is a discriminator on PET\n",
        "        # D2 is a discriminator on CT\n",
        "        self.G1 = CT_generator().cuda()\n",
        "        self.G2 = PET_generator().cuda()\n",
        "        self.D1 = PET_discriminator().cuda()\n",
        "        self.D2 = CT_discriminator().cuda()\n",
        "        self.G1_optimizer = optim.Adam(self.G1.parameters(), lr=params['lr_g'], betas=(params['beta1'], params['beta2']))\n",
        "        self.G2_optimizer = optim.Adam(self.G2.parameters(), lr=params['lr_g'], betas=(params['beta1'], params['beta2']))\n",
        "        self.D1_optimizer = optim.Adam(self.D1.parameters(), lr=params['lr_d'], betas=(params['beta1'], params['beta2']))\n",
        "        self.D2_optimizer = optim.Adam(self.D2.parameters(), lr=params['lr_d'], betas=(params['beta1'], params['beta2']))\n",
        "        \n",
        "        # initialization of the loss function\n",
        "\n",
        "        self.BCE_loss = nn.BCELoss().cuda()\n",
        "        self.MSE_loss = nn.MSELoss().cuda()\n",
        "        \n",
        "        # Gettng a batch of noise to generate the fake data\n",
        "        \n",
        "# Fucntion to train the GAN, where you alternate between the training of the genenator and discriminator\n",
        "#--------------------------------------------------------------------------------------------------------\n",
        "\n",
        "    def train(self):\n",
        "\n",
        "       # Setting empty arrays for storing the losses\n",
        "\n",
        "        self.train_hist = {}\n",
        "        self.train_hist['D1_loss'] = []\n",
        "        self.train_hist['G1_loss'] = []\n",
        "        self.train_hist['D2_loss'] = []\n",
        "        self.train_hist['G2_loss'] = []\n",
        "\n",
        "        # Setting up the labels for real and fake images\n",
        "        self.PET_real = torch.ones(419, 1).cuda()\n",
        "        self.PET_fake = torch.zeros(696, 1).cuda()\n",
        "        self.CT_real = torch.ones(696, 1).cuda()\n",
        "        self.CT_fake = torch.zeros(419, 1).cuda()\n",
        "        \n",
        "        print('training start!!')\n",
        "\n",
        "        # Epoch loops\n",
        "\n",
        "        t1 = time.time()\n",
        "\n",
        "        for epoch in range(self.epoch):\n",
        "            \n",
        "            \n",
        "            \n",
        "\n",
        "            # D2        \n",
        "\n",
        "            for i in range(self.inner_train):\n",
        "                  self.D2_optimizer.zero_grad()\n",
        "                  CT_real = self.D2(self.CT)\n",
        "                  CT_real_loss = self.BCE_loss(CT_real, self.CT_real)\n",
        "                  CT_fake = self.D2(self.G1(self.PET))\n",
        "                  CT_fake_loss = self.BCE_loss(CT_fake, self.CT_fake)\n",
        "\n",
        "                  D2_loss = CT_real_loss + CT_fake_loss\n",
        "                  D2_loss.backward()\n",
        "                  self.D2_optimizer.step()\n",
        "\n",
        "\n",
        "            # D1\n",
        "\n",
        "            for i in range(self.inner_train):\n",
        "                  self.D1_optimizer.zero_grad()\n",
        "                  PET_real = self.D1(self.PET)\n",
        "                  PET_real_loss = self.BCE_loss(PET_real, self.PET_real)\n",
        "                  PET_fake = self.D1(self.G2(self.CT))\n",
        "                  PET_fake_loss = self.BCE_loss(PET_fake, self.PET_fake)\n",
        "\n",
        "                  D1_loss = PET_real_loss + PET_fake_loss\n",
        "                  D1_loss.backward()\n",
        "                  self.D1_optimizer.step()\n",
        "\n",
        "            # G1\n",
        "\n",
        "            for i in range(self.inner_train):\n",
        "                  self.G1_optimizer.zero_grad()\n",
        "                  PET_fake = self.D1(self.G2(self.CT))\n",
        "                  PET_fake_loss = self.BCE_loss(PET_fake, self.CT_real)\n",
        "                  PET_cycle = self.G2(self.G1(self.PET))\n",
        "                  PET_cycle_loss = self.MSE_loss(PET_cycle, self.PET)\n",
        "\n",
        "                  PET_edge = self.EdgeDetection(self.PET.view(-1, 1, 200, 200))\n",
        "                  PET_edge_cycle = self.EdgeDetection(PET_cycle.view(-1, 1, 200, 200))\n",
        "                  PET_edge_loss = self.MSE_loss(PET_edge, PET_edge_cycle)\n",
        "\n",
        "                  G1_loss = PET_fake_loss + PET_cycle_loss + PET_edge_loss/10\n",
        "                  G1_loss.backward()\n",
        "                  self.G1_optimizer.step()\n",
        "                  G1_loss = PET_fake_loss + PET_cycle_loss\n",
        "\n",
        "            # G2\n",
        "\n",
        "            for i in range(self.inner_train):\n",
        "                  self.G2_optimizer.zero_grad()\n",
        "                  CT_fake = self.D2(self.G1(self.PET))\n",
        "                  CT_fake_loss = self.BCE_loss(CT_fake, self.PET_real)\n",
        "                  CT_cycle = self.G1(self.G2(self.CT))\n",
        "                  CT_cycle_loss = self.MSE_loss(CT_cycle, self.CT)\n",
        "\n",
        "                  CT_edge = self.EdgeDetection(self.CT.view(-1, 1, 512, 512))\n",
        "                  CT_edge_cycle = self.EdgeDetection(CT_cycle.view(-1, 1, 512, 512))\n",
        "                  CT_edge_loss = self.MSE_loss(CT_edge, CT_edge_cycle)\n",
        "\n",
        "                  G2_loss = CT_fake_loss + CT_cycle_loss + CT_edge_loss/10\n",
        "                  G2_loss.backward()\n",
        "                  self.G2_optimizer.step()\n",
        "                  G2_loss = CT_fake_loss + CT_cycle_loss\n",
        "\n",
        "            # Edge Detection\n",
        "\n",
        "\n",
        "\n",
        "\n",
        "            if epoch%100 == 0:\n",
        "                  torch.save(self.G1.state_dict(), PATH + 'G1.pth')\n",
        "                  torch.save(self.G2.state_dict(), PATH + 'G2.pth')\n",
        "                  torch.save(self.D1.state_dict(), PATH + 'D1.pth')\n",
        "                  torch.save(self.D2.state_dict(), PATH + 'D2.pth')\n",
        "                  print(\"Epoch : {0}/{1}\".format(epoch, self.epoch))\n",
        "\n",
        "                  print(\"G1 Loss = \", G1_loss)\n",
        "                  print(\"G2 Loss = \", G2_loss)\n",
        "                  print(\"D1 Loss = \", D1_loss)\n",
        "                  print(\"D2 Loss = \", D2_loss)\n",
        "                  \n",
        "\n",
        "\n",
        "\n",
        "##########################################################################\n",
        "\n",
        "                \n",
        "\n",
        "            self.train_hist['D1_loss'].append(D1_loss.item())\n",
        "            self.train_hist['G1_loss'].append(G1_loss.item())\n",
        "            self.train_hist['D2_loss'].append(D2_loss.item())\n",
        "            self.train_hist['G2_loss'].append(G2_loss.item())\n",
        "\n",
        "\n",
        "        print(\"Training finished!\")\n",
        "        t2 = time.time()\n",
        "        print(t2 - t1)"
      ],
      "execution_count": null,
      "outputs": []
    },
    {
      "cell_type": "markdown",
      "metadata": {
        "id": "EpZjA-ySZ5-e"
      },
      "source": [
        "## **[Training](#contents)<a name =\"4\"></a>**"
      ]
    },
    {
      "cell_type": "code",
      "metadata": {
        "id": "JHLNVHIPWgh2"
      },
      "source": [
        "params = {'beta1': 0.5, 'beta2': 0.999,'lr_g':0.05, 'lr_d':0.002,'max_epochs':10000, 'inner_train':10}\n",
        "\n",
        "gan = GAN(params)\n",
        "gan.train()"
      ],
      "execution_count": null,
      "outputs": []
    },
    {
      "cell_type": "markdown",
      "metadata": {
        "id": "MTQ8FKCBZndQ"
      },
      "source": [
        "## **[Test](#contents)**<a name = \"5\"></a>\n",
        "\n",
        "Since we do not have a paired dataset, we are not able to compare the results quantitatively. Though not perfect, we have to compare the results "
      ]
    },
    {
      "cell_type": "code",
      "metadata": {
        "colab": {
          "base_uri": "https://localhost:8080/"
        },
        "id": "W3t2Wl9Wl6bc",
        "outputId": "ad0fbc51-a025-420b-f9aa-36c0856dd6a7"
      },
      "source": [
        "path = '/content/drive/MyDrive/GAN'\n",
        "G1 = CT_generator()\n",
        "w = torch.load(path + 'G1.pth')\n",
        "G1.load_state_dict(w)"
      ],
      "execution_count": null,
      "outputs": [
        {
          "output_type": "execute_result",
          "data": {
            "text/plain": [
              "<All keys matched successfully>"
            ]
          },
          "metadata": {
            "tags": []
          },
          "execution_count": 45
        }
      ]
    },
    {
      "cell_type": "code",
      "metadata": {
        "id": "qdCK1FY3vb7F",
        "colab": {
          "base_uri": "https://localhost:8080/"
        },
        "outputId": "012a39c5-ea52-487e-f5c4-085bfc918533"
      },
      "source": [
        "CT_fake = G1(PET_images)\n",
        "CT_fake.shape"
      ],
      "execution_count": null,
      "outputs": [
        {
          "output_type": "execute_result",
          "data": {
            "text/plain": [
              "torch.Size([696, 200, 200])"
            ]
          },
          "metadata": {
            "tags": []
          },
          "execution_count": 46
        }
      ]
    },
    {
      "cell_type": "code",
      "metadata": {
        "id": "auyZql2_CA8k"
      },
      "source": [
        "for i in range(10):\n",
        "  a = CT_fake[i].detach().numpy()\n",
        "  plt.imshow(a, cmap = 'gray')\n",
        "  plt.show()"
      ],
      "execution_count": null,
      "outputs": []
    },
    {
      "cell_type": "code",
      "metadata": {
        "id": "kj7cLsEDmVqD"
      },
      "source": [
        "for i in range(419):\n",
        "  a = CT_fake[i].detach().numpy()\n",
        "  plt.imshow(a, cmap = 'gray')\n",
        "  plt.show()"
      ],
      "execution_count": null,
      "outputs": []
    }
  ]
}